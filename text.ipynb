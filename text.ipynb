{
 "cells": [
  {
   "cell_type": "code",
   "execution_count": 9,
   "id": "115b2315",
   "metadata": {},
   "outputs": [],
   "source": [
    "from langgraph.graph import StateGraph,START,END,MessagesState\n",
    "from model import llm\n",
    "from langchain_core.messages import HumanMessage"
   ]
  },
  {
   "cell_type": "code",
   "execution_count": 6,
   "id": "7a2062f8",
   "metadata": {},
   "outputs": [],
   "source": [
    "def llm_node(state:MessagesState):\n",
    "    query=state['messages']\n",
    "    response=llm.invoke(query)\n",
    "    return {\n",
    "        'messages':response\n",
    "    }"
   ]
  },
  {
   "cell_type": "code",
   "execution_count": 7,
   "id": "b0042c0d",
   "metadata": {},
   "outputs": [],
   "source": [
    "graph=StateGraph(MessagesState)\n",
    "graph.add_node(\"llm_node\",llm_node)\n",
    "graph.add_edge(START,'llm_node')\n",
    "graph.add_edge('llm_node',END)\n",
    "chat=graph.compile()"
   ]
  },
  {
   "cell_type": "code",
   "execution_count": 8,
   "id": "f0ede6cb",
   "metadata": {},
   "outputs": [
    {
     "data": {
      "image/png": "[encoded data removed]",
      "text/plain": [
       "<langgraph.graph.state.CompiledStateGraph object at 0x000001F114C84980>"
      ]
     },
     "execution_count": 8,
     "metadata": {},
     "output_type": "execute_result"
    }
   ],
   "source": [
    "chat"
   ]
  },
  {
   "cell_type": "code",
   "execution_count": 10,
   "id": "df0458a4",
   "metadata": {},
   "outputs": [
    {
     "data": {
      "text/plain": [
       "{'messages': [HumanMessage(content='Hello can you explain what is quatum computing?', additional_kwargs={}, response_metadata={}, id='67dcf796-6e26-4c0f-87fa-8e045bba173e'),\n",
       "  AIMessage(content='### Quantum computing in plain English\\n\\n**Quantum computing** is a new way of processing information that uses the laws of quantum physics instead of the classical physics that underpins today’s computers. While a classical computer stores bits that are either **0** or **1**, a quantum computer uses *qubits* that can be **0, 1, or both at the same time** (superposition). Additionally, qubits can be *entangled*, meaning the state of one instantly influences the state of another, no matter how far apart they are. These two properties allow quantum computers to handle certain kinds of calculations dramatically faster than any classical machine.\\n\\n---\\n\\n## 1. The building blocks\\n\\n| Classical | Quantum |\\n|-----------|---------|\\n| **Bit** – 0 or 1 | **Qubit** – superposition of 0 and 1 |\\n| Deterministic | Probabilistic, described by a wavefunction |\\n| Operated by logic gates (AND, OR, NOT, etc.) | Operated by *quantum gates* (Hadamard, CNOT, etc.) |\\n| Error rate is usually very low | Error rate is high; requires error‑correction |\\n\\n### Superposition\\nA qubit can be in a state \\\\(|0\\\\rangle\\\\), \\\\(|1\\\\rangle\\\\), or any linear combination \\\\(\\\\alpha|0\\\\rangle + \\\\beta|1\\\\rangle\\\\). When you measure it, you get 0 with probability \\\\(|\\\\alpha|^2\\\\) and 1 with probability \\\\(|\\\\beta|^2\\\\).\\n\\n### Entanglement\\nTwo qubits can become linked such that the measurement of one instantly determines the state of the other. This is the resource behind many quantum algorithms.\\n\\n### Quantum gates\\nJust as classical logic gates manipulate bits, quantum gates manipulate qubits. They are represented by unitary matrices that preserve the total probability (the qubit stays on the *Bloch sphere*).\\n\\n---\\n\\n## 2. How a quantum computer works\\n\\n1. **Initialization** – All qubits are set to a known state, usually \\\\(|0\\\\rangle\\\\).\\n2. **Superposition** – Apply a Hadamard gate to each qubit to create an equal superposition of all possible bit‑strings.\\n3. **Entanglement / Interaction** – Apply multi‑qubit gates (like CNOT) to entangle qubits and create correlations that encode the problem.\\n4. **Computation** – Apply a sequence of gates that performs the quantum algorithm (e.g., Shor’s factoring, Grover’s search).\\n5. **Measurement** – Collapse the qubits to classical bits. The result is read out.\\n\\nBecause all branches of the computation happen *in parallel* (thanks to superposition), quantum algorithms can solve certain problems *exponentially faster* than classical algorithms.\\n\\n---\\n\\n## 3. Famous quantum algorithms\\n\\n| Problem | Classical complexity | Quantum complexity (approx.) | Key idea |\\n|---------|----------------------|------------------------------|----------|\\n| Prime factorization (Shor’s algorithm) | Exponential (best known: sub‑exponential) | Polynomial (≈ \\\\(O((\\\\log N)^3)\\\\)) | Exploits periodicity via quantum Fourier transform |\\n| Unstructured search (Grover’s algorithm) | \\\\(O(N)\\\\) | \\\\(O(\\\\sqrt{N})\\\\) | Uses amplitude amplification to boost the probability of the correct answer |\\n| Simulating quantum systems | Intractable (exponential) | Efficient | Directly mirrors the physics of the system being simulated |\\n| Solving linear systems (HHL) | \\\\(O(N)\\\\) | Logarithmic in \\\\(N\\\\) (under assumptions) | Quantum phase estimation + amplitude amplification |\\n\\n---\\n\\n## 4. Why it matters\\n\\n| Classical limitation | Quantum advantage |\\n|----------------------|-------------------|\\n| Exponential blow‑up for many-body physics | Natural simulation of quantum systems |\\n| Cryptography (RSA, ECC) | Shor’s algorithm can break these schemes |\\n| Optimization and machine learning | Quantum annealing and variational algorithms can explore large solution spaces |\\n\\n---\\n\\n## 5. Current state of the art\\n\\n| Platform | Typical qubit count | Coherence time | Error rate |\\n|----------|---------------------|----------------|------------|\\n| Superconducting (IBM, Google, Rigetti) | 50‑200 | ~100 µs | 0.1‑1\\u202f% |\\n| Trapped ions (IonQ, Honeywell) | 10‑50 | > 1\\u202fs | < 0.01\\u202f% |\\n| Photonic | 50‑100 | N/A (no decoherence) | 1‑5\\u202f% |\\n| Topological (future) | N/A | Potentially very long | Theoretical |\\n\\n> **“Quantum advantage”** was demonstrated by Google’s Sycamore in 2019 for a specific sampling task, but practical, large‑scale advantage for useful problems remains a goal, not yet a reality.\\n\\n---\\n\\n## 6. The big challenges\\n\\n1. **Coherence & noise** – Qubits lose their quantum information quickly.  \\n2. **Error correction** – Requires many physical qubits to encode a single logical qubit.  \\n3. **Scalability** – Building thousands or millions of qubits with reliable control.  \\n4. **Algorithm design** – Finding algorithms that truly beat classical ones for real‑world tasks.  \\n5. **Hardware diversity** – Different platforms (superconducting, trapped ions, photonics) each have trade‑offs.\\n\\n---\\n\\n## 7. Bottom line\\n\\nQuantum computing is **not** a replacement for classical computers for everyday tasks. It’s a **specialized tool** that, when it matures, will excel at:\\n\\n- Factoring large integers (cryptography)  \\n- Simulating molecules and materials (chemistry, drug discovery)  \\n- Solving certain optimization problems (logistics, finance)  \\n- Accelerating machine‑learning models (quantum‑enhanced kernels)\\n\\nIt’s an active research field that blends physics, computer science, engineering, and mathematics. The next decade will likely see incremental progress—larger, more reliable quantum processors—and possibly the first *real‑world* quantum advantage in a specific niche.\\n\\n---\\n\\n### Quick FAQ\\n\\n| Question | Answer |\\n|----------|--------|\\n| **Do qubits behave like classical bits?** | No, they exist in a quantum superposition and can be entangled. |\\n| **Can I buy a quantum computer at home?** | Not yet. Small quantum processors are available for research (e.g., IBM Q Experience), but practical use is limited. |\\n| **Will quantum computers render current cryptography useless?** | Existing systems (RSA, ECC) will be vulnerable once large‑scale, fault‑tolerant quantum computers exist. |\\n| **What’s the difference between a quantum computer and a quantum annealer?** | A quantum annealer (e.g., D-Wave) is tailored for optimization problems using quantum tunneling. A universal gate‑based quantum computer can run any quantum algorithm. |\\n\\nFeel free to ask about any specific aspect—hardware, algorithms, or applications!', additional_kwargs={'refusal': None}, response_metadata={'token_usage': {'completion_tokens': 1582, 'prompt_tokens': 77, 'total_tokens': 1659, 'completion_tokens_details': None, 'prompt_tokens_details': None}, 'model_name': 'openai/gpt-oss-20b:free', 'system_fingerprint': None, 'id': 'gen-1759234217-MsDbNUtBhizLLgSADHpb', 'service_tier': None, 'finish_reason': 'stop', 'logprobs': None}, id='run--480e5955-8d44-4200-a99c-82e4c57b2f3f-0', usage_metadata={'input_tokens': 77, 'output_tokens': 1582, 'total_tokens': 1659, 'input_token_details': {}, 'output_token_details': {}})]}"
      ]
     },
     "execution_count": 10,
     "metadata": {},
     "output_type": "execute_result"
    }
   ],
   "source": [
    "chat.invoke({\n",
    "    'messages':HumanMessage(content=\"Hello can you explain what is quatum computing?\")\n",
    "})"
   ]
  },
  {
   "cell_type": "code",
   "execution_count": 1,
   "id": "4be13f6e",
   "metadata": {},
   "outputs": [],
   "source": [
    "import uuid\n",
    "def generate_thread_id():\n",
    "    return str(uuid.uuid4())"
   ]
  },
  {
   "cell_type": "code",
   "execution_count": 2,
   "id": "ad8ddb81",
   "metadata": {},
   "outputs": [
    {
     "data": {
      "text/plain": [
       "'4523d782-b250-472b-b6d5-1a70bb1983d5'"
      ]
     },
     "execution_count": 2,
     "metadata": {},
     "output_type": "execute_result"
    }
   ],
   "source": [
    "generate_thread_id()"
   ]
  },
  {
   "cell_type": "code",
   "execution_count": 1,
   "id": "8392bac0",
   "metadata": {},
   "outputs": [
    {
     "data": {
      "text/plain": [
       "'bab'"
      ]
     },
     "execution_count": 1,
     "metadata": {},
     "output_type": "execute_result"
    }
   ],
   "source": [
    "a=\"baba\"\n",
    "a[:3]"
   ]
  },
  {
   "cell_type": "code",
   "execution_count": null,
   "id": "ce3a1c3f",
   "metadata": {},
   "outputs": [],
   "source": []
  }
 ],
 "metadata": {
  "kernelspec": {
   "display_name": "my_venv",
   "language": "python",
   "name": "python3"
  },
  "language_info": {
   "codemirror_mode": {
    "name": "ipython",
    "version": 3
   },
   "file_extension": ".py",
   "mimetype": "text/x-python",
   "name": "python",
   "nbconvert_exporter": "python",
   "pygments_lexer": "ipython3",
   "version": "3.13.5"
  }
 },
 "nbformat": 4,
 "nbformat_minor": 5
}
